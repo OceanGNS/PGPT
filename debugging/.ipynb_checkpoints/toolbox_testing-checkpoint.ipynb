{
 "cells": [
  {
   "cell_type": "code",
   "execution_count": 1,
   "id": "0e53e6bc",
   "metadata": {},
   "outputs": [],
   "source": [
    "import sys\n",
    "import glob\n",
    "import xarray as xr\n",
    "import pandas as pd\n",
    "import numpy as np\n",
    "import matplotlib.pyplot as plt\n",
    "\n",
    "nc_path = '/Users/research/Documents/GitHub/gliderProcessing/glider_data/echo_20230113/delayed/nc/'\n",
    "processing_mode = 'delayed'\n",
    "\n",
    "traj_file_name = sorted(glob.glob(nc_path + '*{}*.nc'.format('trajectory')))\n",
    "data = xr.open_dataset(traj_file_name[0], engine='netcdf4', decode_times=False)\n",
    "raw_data = xr.open_dataset(traj_file_name[0], engine='netcdf4', group='glider_record', decode_times=False)\n",
    "raw_data = raw_data.sortby('time').to_dataframe().reset_index()\n",
    "data = data.sortby('time').to_dataframe().reset_index()"
   ]
  },
  {
   "cell_type": "markdown",
   "id": "a6a24abf",
   "metadata": {},
   "source": [
    "## Correct lon/lat dead reckoning"
   ]
  },
  {
   "cell_type": "code",
   "execution_count": 2,
   "id": "47bdf2bb",
   "metadata": {},
   "outputs": [],
   "source": [
    "# Path containing python functions\n",
    "path = ['/Users/research/Documents/GitHub/gliderProcessing/glider_processing_scripts/']\n",
    "sys.path.append(path[0])\n",
    "\n",
    "from gliderfuncs import correct_dead_reckoning, findProfiles\n",
    "\n",
    "data['lon_qc'],data['lat_qc'] = correct_dead_reckoning(raw_data['m_lon'],raw_data['m_lat'],raw_data['time'],raw_data['x_dr_state'],raw_data['m_gps_lon'],raw_data['m_gps_lat'])\n"
   ]
  },
  {
   "cell_type": "markdown",
   "id": "561429d8",
   "metadata": {},
   "source": [
    "## Find Profiles"
   ]
  },
  {
   "cell_type": "code",
   "execution_count": 3,
   "id": "ffbe9b2f",
   "metadata": {},
   "outputs": [],
   "source": [
    "data['profile_index'],data['profile_direction']=findProfiles(data['time'],data['depth'],stall=20,shake=200)"
   ]
  },
  {
   "cell_type": "markdown",
   "id": "371ce157",
   "metadata": {},
   "source": [
    "## Data QC"
   ]
  },
  {
   "cell_type": "code",
   "execution_count": 4,
   "id": "87fb0bd9",
   "metadata": {},
   "outputs": [],
   "source": [
    "from quartod_qc import quartod_qc_checks"
   ]
  },
  {
   "cell_type": "code",
   "execution_count": 21,
   "id": "68d0d851",
   "metadata": {
    "scrolled": true
   },
   "outputs": [
    {
     "name": "stdout",
     "output_type": "stream",
     "text": [
      "done: test 1 - range check test for variable temperature\n",
      "done: test 2 - spike test for variable temperature\n",
      "done: test 3 - rate of change test for variable temperature\n",
      "done: test 4 - flat line test for variable temperature\n"
     ]
    },
    {
     "data": {
      "image/png": "[encoded data removed]",
      "text/plain": [
       "<Figure size 432x288 with 1 Axes>"
      ]
     },
     "metadata": {
      "needs_background": "light"
     },
     "output_type": "display_data"
    }
   ],
   "source": [
    "# set the variable we want to check and test \n",
    "var = data['temperature']\n",
    "\n",
    "qc_options = {\n",
    "    'sensor_min': 20,\n",
    "    'sensor_max': 40,\n",
    "    'sensor_user_min': 20,\n",
    "    'sensor_user_max': 40,\n",
    "    'spike_thrshld_low': 0.5,\n",
    "    'spike_thrshld_high': 1.5,\n",
    "    'n_dev': 1,          # Adjust this value to represent the max acceptable rate of change\n",
    "    'time_dev': 60/3600, # Set to the upper bound of the time range you're interested in (60 seconds)\n",
    "    'min_wind_size': 100,\n",
    "    'eps': 1e-6,\n",
    "    'rep_cnt_fail': 3,\n",
    "    'rep_cnt_suspect': 3\n",
    "}\n",
    "\n",
    "var_qc_flag = quartod_qc_checks(var.values, data['time'].values,'temperature',qc_options)\n",
    "\n",
    "var_qc = var.copy()\n",
    "var_qc[(var_qc_flag==3) | (var_qc_flag==4) | (var_qc_flag==9)] = np.nan\n",
    "\n",
    "\n",
    "# Plot\n",
    "plt.plot(np.array(data['time'], dtype='datetime64'), var,'.')\n",
    "plt.plot(np.array(data['time'], dtype='datetime64'), var_qc, '.')\n",
    "#plt.ylim(np.nanmin(var_qc)-0.2,np.nanmax(var_qc)+0.2)\n",
    "plt.show()"
   ]
  },
  {
   "cell_type": "code",
   "execution_count": null,
   "id": "07ccadf7",
   "metadata": {},
   "outputs": [],
   "source": []
  },
  {
   "cell_type": "code",
   "execution_count": 6,
   "id": "96bf71cd",
   "metadata": {},
   "outputs": [
    {
     "ename": "SyntaxError",
     "evalue": "EOF while scanning triple-quoted string literal (3585323347.py, line 20)",
     "output_type": "error",
     "traceback": [
      "\u001b[0;36m  Input \u001b[0;32mIn [6]\u001b[0;36m\u001b[0m\n\u001b[0;31m    \u001b[0m\n\u001b[0m    ^\u001b[0m\n\u001b[0;31mSyntaxError\u001b[0m\u001b[0;31m:\u001b[0m EOF while scanning triple-quoted string literal\n"
     ]
    }
   ],
   "source": [
    "'''\n",
    "from data2attr import save_netcdf\n",
    "fname='echo-trajectory_file.nc'\n",
    "gliders_db = '/Users/research/Documents/GitHub/gliderProcessing/glider_reference_information/glider_serial-numbers_and_sensor-serial-numbers.csv'\n",
    "metadata_source = '/Users/research/Documents/GitHub/gliderProcessing/glider_data/echo_20230113/metadata.yml'\n",
    "encoder = '/Users/research/Documents/GitHub/gliderProcessing/glider_processing_scripts/attributes/glider_dac_3.0_conventions.yml'\n",
    "\n",
    "source_info = {\n",
    "    'gliders_db': gliders_db,\n",
    "    'metadata_source': metadata_source,\n",
    "    'encoder': encoder,\n",
    "    'processing_mode': 'delayed',\n",
    "    'data_type': 'trajectory',\n",
    "    'data_source': files,\n",
    "    'filename': fname,\n",
    "    'filepath': nc_path\n",
    "}\n",
    "\n",
    "save_netcdf(data, raw_data,source_info)\n",
    "\n"
   ]
  },
  {
   "cell_type": "markdown",
   "id": "34b68212",
   "metadata": {},
   "source": [
    "## PLOTS"
   ]
  },
  {
   "cell_type": "code",
   "execution_count": null,
   "id": "aa2b98fc",
   "metadata": {},
   "outputs": [],
   "source": [
    "'''\n",
    "\n",
    "fig, ax = plt.subplots(figsize=(14,7))\n",
    "plt.plot(data['time'],data['depth'])\n",
    "plt.gca().invert_yaxis()\n",
    "ax.set(xlabel='time', ylabel='depth(m)',\n",
    "       title='Glider Dives')\n",
    "\n",
    "\n",
    "fig, ax = plt.subplots(figsize=(14,7))\n",
    "idx_down = np.flatnonzero(data['profile_index'] == 1)\n",
    "idx_up = np.flatnonzero(data['profile_index'] == 2)\n",
    "ax.plot(data['time'].values[idx_down], data['depth'].values[idx_down], 'o', label='down cast')\n",
    "ax.plot(data['time'].values[idx_up], data['depth'].values[idx_up], 'o', label='up cast')\n",
    "ax.set(xlabel='time (s)', ylabel='depth (m)',\n",
    "       title='Algorithm for Profile Splitting Code')\n",
    "plt.gca().invert_yaxis()\n",
    "ax.grid()\n",
    "ax.legend()\n",
    "plt.show()\n",
    "\n",
    "\n",
    "fig, ax = plt.subplots(figsize=(14,7))\n",
    "ax.plot(data['lon_qc'],data['lat_qc'],'o',label='corrected(underwater)')\n",
    "ax.plot(raw_data['m_gps_lon'],raw_data['m_gps_lat'],'o',label='GPS(surface)')\n",
    "ax.set(xlabel='longitude', ylabel='latitude',\n",
    "       title='Algorithm for Deadreckoning Position Correction')\n",
    "ax.grid()\n",
    "ax.legend()\n",
    "plt.show()\n",
    "\n",
    "\n",
    "'''\n",
    "\n"
   ]
  }
 ],
 "metadata": {
  "kernelspec": {
   "display_name": "Python 3 (ipykernel)",
   "language": "python",
   "name": "python3"
  },
  "language_info": {
   "codemirror_mode": {
    "name": "ipython",
    "version": 3
   },
   "file_extension": ".py",
   "mimetype": "text/x-python",
   "name": "python",
   "nbconvert_exporter": "python",
   "pygments_lexer": "ipython3",
   "version": "3.9.12"
  }
 },
 "nbformat": 4,
 "nbformat_minor": 5
}
