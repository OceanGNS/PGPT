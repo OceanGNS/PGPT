{
 "cells": [
  {
   "cell_type": "code",
   "execution_count": null,
   "id": "b8357f5e",
   "metadata": {},
   "outputs": [],
   "source": [
    "import numpy as np\n",
    "import pandas as pd\n",
    "import matplotlib.pyplot as plt\n",
    "import sys\n",
    "import gsw as sw\n",
    "import xarray as xr\n",
    "import netCDF4\n",
    "\n",
    "# Path containing python functions\n",
    "glidertoolbox_path = ['/Users/research/Documents/GitHub/gliderProcessing/glider_processing_scripts/']\n",
    "sys.path.append(glidertoolbox_path[0])\n",
    "from gliderfuncs import deriveCTD, p2depth, dm2d\n",
    "\n",
    "nc_path = '/Users/research/Documents/GitHub/gliderProcessing/glider_data/echo_20230113/delayed/nc/'\n",
    "nc_file = ['echo-2023-012-3-0_delayed.nc','delayed_timeseries.nc']\n",
    "gl = xr.open_dataset(nc_path+nc_file[0], engine='netcdf4', decode_times=False)\n",
    "gl = gl.to_dataframe().reset_index()\n"
   ]
  },
  {
   "cell_type": "code",
   "execution_count": null,
   "id": "a9b59555",
   "metadata": {},
   "outputs": [],
   "source": [
    "import gsw\n",
    "\n",
    "\n",
    "SP, SA, CT, rho = deriveCTD(gl['conductivity'],gl['temperature'],gl['pressure'],gl['lat'],gl['lon'])\n",
    "\n",
    "\n",
    "plt.plot(SP,gl['depth'])\n",
    "#plt.plot(gl['conservative_temperature'],gl['depth'])\n",
    "\n",
    "plt.gca().invert_yaxis()"
   ]
  },
  {
   "cell_type": "code",
   "execution_count": null,
   "id": "b3dc68eb",
   "metadata": {},
   "outputs": [],
   "source": []
  },
  {
   "cell_type": "code",
   "execution_count": null,
   "id": "256f1d52",
   "metadata": {},
   "outputs": [],
   "source": []
  },
  {
   "cell_type": "code",
   "execution_count": null,
   "id": "09955deb",
   "metadata": {},
   "outputs": [],
   "source": []
  },
  {
   "cell_type": "code",
   "execution_count": null,
   "id": "95b3956a",
   "metadata": {},
   "outputs": [],
   "source": []
  }
 ],
 "metadata": {
  "kernelspec": {
   "display_name": "Python 3 (ipykernel)",
   "language": "python",
   "name": "python3"
  },
  "language_info": {
   "codemirror_mode": {
    "name": "ipython",
    "version": 3
   },
   "file_extension": ".py",
   "mimetype": "text/x-python",
   "name": "python",
   "nbconvert_exporter": "python",
   "pygments_lexer": "ipython3",
   "version": "3.9.12"
  }
 },
 "nbformat": 4,
 "nbformat_minor": 5
}
