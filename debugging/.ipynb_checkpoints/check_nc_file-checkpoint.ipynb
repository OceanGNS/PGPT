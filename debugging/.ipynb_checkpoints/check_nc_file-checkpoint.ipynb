{
 "cells": [
  {
   "cell_type": "code",
   "execution_count": 1,
   "id": "b8357f5e",
   "metadata": {},
   "outputs": [
    {
     "ename": "ImportError",
     "evalue": "cannot import name 'rad2deg' from 'functions' (/Users/research/Documents/GitHub/gliderProcessing/glider_processing_scripts/functions.py)",
     "output_type": "error",
     "traceback": [
      "\u001b[0;31m---------------------------------------------------------------------------\u001b[0m",
      "\u001b[0;31mImportError\u001b[0m                               Traceback (most recent call last)",
      "Input \u001b[0;32mIn [1]\u001b[0m, in \u001b[0;36m<cell line: 13>\u001b[0;34m()\u001b[0m\n\u001b[1;32m     10\u001b[0m glidertoolbox_path \u001b[38;5;241m=\u001b[39m [\u001b[38;5;124m'\u001b[39m\u001b[38;5;124m/Users/research/Documents/GitHub/gliderProcessing/glider_processing_scripts/\u001b[39m\u001b[38;5;124m'\u001b[39m]\n\u001b[1;32m     12\u001b[0m sys\u001b[38;5;241m.\u001b[39mpath\u001b[38;5;241m.\u001b[39mappend(glidertoolbox_path[\u001b[38;5;241m0\u001b[39m])\n\u001b[0;32m---> 13\u001b[0m \u001b[38;5;28;01mfrom\u001b[39;00m \u001b[38;5;21;01mfunctions\u001b[39;00m \u001b[38;5;28;01mimport\u001b[39;00m c2salinity,p2depth,dm2d,rad2deg,O2freshtosal,range_check,correctDR,findProfiles\n",
      "\u001b[0;31mImportError\u001b[0m: cannot import name 'rad2deg' from 'functions' (/Users/research/Documents/GitHub/gliderProcessing/glider_processing_scripts/functions.py)"
     ]
    }
   ],
   "source": [
    "import numpy as np\n",
    "import pandas as pd\n",
    "import matplotlib.pyplot as plt\n",
    "import sys\n",
    "import gsw as sw\n",
    "import xarray as xr\n",
    "import netCDF4\n",
    "\n",
    "# Path containing python functions\n",
    "glidertoolbox_path = ['/Users/research/Documents/GitHub/gliderProcessing/glider_processing_scripts/']\n",
    "\n",
    "sys.path.append(glidertoolbox_path[0])\n",
    "from functions import c2salinity, stp2ct_density, p2depth, dm2d, O2freshtosal"
   ]
  },
  {
   "cell_type": "code",
   "execution_count": null,
   "id": "a9b59555",
   "metadata": {},
   "outputs": [],
   "source": [
    "nc_path = '/Users/research/Documents/GitHub/gliderProcessing/glider_data/echo_20230113/delayed/nc/'\n",
    "nc_file = ['echo-2023-012-3-0_delayed.nc','delayed_timeseries.nc']\n",
    "print(nc_path+nc_file[0])"
   ]
  },
  {
   "cell_type": "code",
   "execution_count": null,
   "id": "b3dc68eb",
   "metadata": {},
   "outputs": [],
   "source": [
    "#gl = xr.open_dataset(nc_path+nc_file[0])\n",
    "gl = netCDF4.Dataset(nc_path+nc_file[0])"
   ]
  },
  {
   "cell_type": "code",
   "execution_count": null,
   "id": "ade968e2",
   "metadata": {},
   "outputs": [],
   "source": [
    "#gl.groups['glider_record'].variables"
   ]
  },
  {
   "cell_type": "code",
   "execution_count": null,
   "id": "43911686",
   "metadata": {},
   "outputs": [],
   "source": [
    "#plt.plot(,-gl.variables['depth'],'.')\n",
    "plt.plot(gl['time'],gl['depth'])\n",
    "plt.gca().invert_yaxis()"
   ]
  },
  {
   "cell_type": "code",
   "execution_count": null,
   "id": "256f1d52",
   "metadata": {},
   "outputs": [],
   "source": [
    "plt.plot(gl['temperature'],gl['depth'])\n",
    "plt.gca().invert_yaxis()"
   ]
  },
  {
   "cell_type": "code",
   "execution_count": null,
   "id": "8f3193f2",
   "metadata": {},
   "outputs": [],
   "source": [
    "# Show the internal cell temperatue for post correction \n",
    "plt.figure()\n",
    "plt.plot(gl['time'],gl.groups['glider_record'].variables['sci_rbrctd_temperature_00'])\n",
    "plt.plot(gl['time'],gl.groups['glider_record'].variables['sci_rbrctd_cond_cell_temp_00'])"
   ]
  },
  {
   "cell_type": "code",
   "execution_count": null,
   "id": "11ef6245",
   "metadata": {},
   "outputs": [],
   "source": [
    "df = pd.DataFrame()\n",
    "df['lon'] = gl.variables['lon'][:]"
   ]
  },
  {
   "cell_type": "code",
   "execution_count": null,
   "id": "bc55a203",
   "metadata": {},
   "outputs": [],
   "source": [
    "np.nanmean(df['lon'])"
   ]
  },
  {
   "cell_type": "code",
   "execution_count": null,
   "id": "b43f71f9",
   "metadata": {},
   "outputs": [],
   "source": [
    "df['profile_lon'] = np.nanmean(df['lon'])"
   ]
  },
  {
   "cell_type": "code",
   "execution_count": null,
   "id": "425891de",
   "metadata": {},
   "outputs": [],
   "source": [
    "df['profile_lon'][:]"
   ]
  },
  {
   "cell_type": "code",
   "execution_count": null,
   "id": "09955deb",
   "metadata": {},
   "outputs": [],
   "source": []
  },
  {
   "cell_type": "code",
   "execution_count": null,
   "id": "95b3956a",
   "metadata": {},
   "outputs": [],
   "source": []
  }
 ],
 "metadata": {
  "kernelspec": {
   "display_name": "Python 3 (ipykernel)",
   "language": "python",
   "name": "python3"
  },
  "language_info": {
   "codemirror_mode": {
    "name": "ipython",
    "version": 3
   },
   "file_extension": ".py",
   "mimetype": "text/x-python",
   "name": "python",
   "nbconvert_exporter": "python",
   "pygments_lexer": "ipython3",
   "version": "3.9.12"
  }
 },
 "nbformat": 4,
 "nbformat_minor": 5
}
