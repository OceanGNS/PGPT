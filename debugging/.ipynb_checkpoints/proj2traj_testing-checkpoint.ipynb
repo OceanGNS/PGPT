{
 "cells": [
  {
   "cell_type": "code",
   "execution_count": 1,
   "id": "0e53e6bc",
   "metadata": {},
   "outputs": [
    {
     "name": "stdout",
     "output_type": "stream",
     "text": [
      "Processed /Users/research/Documents/GitHub/gliderProcessing/glider_data/echo_20230113/delayed/nc/echo-2023-012-0-0_delayed.nc\n",
      "Processed /Users/research/Documents/GitHub/gliderProcessing/glider_data/echo_20230113/delayed/nc/echo-2023-012-1-0_delayed.nc\n",
      "Processed /Users/research/Documents/GitHub/gliderProcessing/glider_data/echo_20230113/delayed/nc/echo-2023-012-2-0_delayed.nc\n",
      "Processed /Users/research/Documents/GitHub/gliderProcessing/glider_data/echo_20230113/delayed/nc/echo-2023-012-2-1_delayed.nc\n",
      "Processed /Users/research/Documents/GitHub/gliderProcessing/glider_data/echo_20230113/delayed/nc/echo-2023-012-2-2_delayed.nc\n",
      "Processed /Users/research/Documents/GitHub/gliderProcessing/glider_data/echo_20230113/delayed/nc/echo-2023-012-3-0_delayed.nc\n"
     ]
    }
   ],
   "source": [
    "import sys\n",
    "import glob\n",
    "import xarray as xr\n",
    "import pandas as pd\n",
    "import numpy as np\n",
    "import matplotlib.pyplot as plt\n",
    "\n",
    "nc_path = '/Users/research/Documents/GitHub/gliderProcessing/glider_data/echo_20230113/delayed/nc/'\n",
    "processing_mode = 'delayed'\n",
    "\n",
    "files = sorted(glob.glob(nc_path + '*{}*.nc'.format(processing_mode)))\n",
    "data_list = []\n",
    "glider_record_list = []\n",
    "\n",
    "for f in files:\n",
    "    try:\n",
    "        tmpData = xr.open_dataset(f, engine='netcdf4', decode_times=False)\n",
    "        data_list.append(tmpData)\n",
    "        tmpGliderRecordData = xr.open_dataset(f, engine='netcdf4', group='glider_record', decode_times=False)\n",
    "        glider_record_list.append(tmpGliderRecordData)\n",
    "        print('Processed {}'.format(f))\n",
    "    except Exception as e:\n",
    "        print('Ignore {}. Error: {}'.format(f, e))\n",
    "\n",
    "raw_data = xr.concat(glider_record_list, dim='time').sortby('time')\n",
    "data = xr.concat(data_list, dim='time').sortby('time')\n",
    "\n",
    "# Convert xarray datasets to pandas dataframes\n",
    "raw_data = raw_data.to_dataframe().reset_index()\n",
    "data = data.to_dataframe().reset_index()"
   ]
  },
  {
   "cell_type": "markdown",
   "id": "a6a24abf",
   "metadata": {},
   "source": [
    "## Correct lon/lat dead reckoning"
   ]
  },
  {
   "cell_type": "code",
   "execution_count": 2,
   "id": "47bdf2bb",
   "metadata": {},
   "outputs": [],
   "source": [
    "# Path containing python functions\n",
    "path = ['/Users/research/Documents/GitHub/gliderProcessing/glider_processing_scripts/']\n",
    "sys.path.append(path[0])\n",
    "\n",
    "from gliderfuncs import correct_dead_reckoning, findProfiles\n",
    "\n",
    "data['lon_qc'],data['lat_qc'] = correct_dead_reckoning(raw_data['m_lon'],raw_data['m_lat'],raw_data['time'],raw_data['x_dr_state'],raw_data['m_gps_lon'],raw_data['m_gps_lat'])\n"
   ]
  },
  {
   "cell_type": "markdown",
   "id": "561429d8",
   "metadata": {},
   "source": [
    "## Find Profiles"
   ]
  },
  {
   "cell_type": "code",
   "execution_count": 3,
   "id": "ffbe9b2f",
   "metadata": {},
   "outputs": [],
   "source": [
    "data['profile_index'],data['profile_direction']=findProfiles(data['time'],data['depth'],stall=20,shake=200)"
   ]
  },
  {
   "cell_type": "markdown",
   "id": "371ce157",
   "metadata": {},
   "source": [
    "## Data QC"
   ]
  },
  {
   "cell_type": "code",
   "execution_count": 4,
   "id": "fd1c4ff1",
   "metadata": {},
   "outputs": [],
   "source": [
    "def get_qc_options(variable_name):\n",
    "    if variable_name == 'oxygen':\n",
    "        qc_options = {\n",
    "            'sensor_min': 0,\n",
    "            'sensor_max': 500,\n",
    "            'sensor_user_min': 50,\n",
    "            'sensor_user_max': 500,\n",
    "            'spike_thrshld_low': 4,\n",
    "            'spike_thrshld_high': 8,\n",
    "            'n_dev': 3,\n",
    "            'time_dev': 25,\n",
    "            'eps': 1e-6,\n",
    "            'rep_cnt_fail': 5,\n",
    "            'rep_cnt_suspect': 3\n",
    "        }\n",
    "    elif variable_name == 'salinity':\n",
    "        qc_options = {\n",
    "            'sensor_min': 2,\n",
    "            'sensor_max': 40,\n",
    "            'sensor_user_min': 10,\n",
    "            'sensor_user_max': 37,\n",
    "            'spike_thrshld_low': 0.3,\n",
    "            'spike_thrshld_high': 0.9,\n",
    "            'n_dev': 3,\n",
    "            'time_dev': 25,\n",
    "            'eps': 0.005,\n",
    "            'rep_cnt_fail': 5,\n",
    "            'rep_cnt_suspect': 3\n",
    "        }\n",
    "    elif variable_name == 'temperature':\n",
    "        qc_options = {\n",
    "            'sensor_min': -2,\n",
    "            'sensor_max': 40,\n",
    "            'sensor_user_min': -2,\n",
    "            'sensor_user_max': 30,\n",
    "            'spike_thrshld_low': 3,\n",
    "            'spike_thrshld_high': 8,\n",
    "            'n_dev': 3,\n",
    "            'time_dev': 25,\n",
    "            'eps': 0.05,\n",
    "            'rep_cnt_fail': 5,\n",
    "            'rep_cnt_suspect': 3\n",
    "        }\n",
    "    elif variable_name == 'pressure':\n",
    "        qc_options = {\n",
    "            'sensor_min': -2,\n",
    "            'sensor_max': 1200,\n",
    "            'sensor_user_min': -2,\n",
    "            'sensor_user_max': 1200,\n",
    "            'spike_thrshld_low': 3,\n",
    "            'spike_thrshld_high': 8,\n",
    "            'n_dev': 3,\n",
    "            'time_dev': 25,\n",
    "            'eps': 0.05,\n",
    "            'rep_cnt_fail': 5,\n",
    "            'rep_cnt_suspect': 3\n",
    "        }\n",
    "    else:\n",
    "        raise ValueError(f\"Unknown variable_name '{variable_name}'\")\n",
    "        \n",
    "    return qc_options\n",
    "\n",
    "def range_check_test(var, qc_flag, sensor_min=0, sensor_max=500, user_min=0, user_max=500):\n",
    "    \"\"\"\n",
    "    Perform a Range Check Test on the given data array.\n",
    "\n",
    "    :param var: array-like, the data to test for range\n",
    "    :param sensor_min: float, the minimum sensor value\n",
    "    :param sensor_max: float, the maximum sensor value\n",
    "    :param user_min: float, the user-selected minimum value\n",
    "    :param user_max: float, the user-selected maximum value\n",
    "    :return: array-like, the flags for each data point (1: Pass, 3: Suspect, 4: Fail)\n",
    "    \"\"\"\n",
    "\n",
    "\n",
    "    for i, value in enumerate(var):\n",
    "        if value < sensor_min or value > sensor_max:\n",
    "            qc_flag[i] = 4\n",
    "        elif value < user_min or value > user_max:\n",
    "            qc_flag[i] = 3\n",
    "\n",
    "    return qc_flag\n",
    "\n",
    "\n",
    "def spike_test(var, qc_flag, thrshld_low=4, thrshld_high=8):\n",
    "    \"\"\"\n",
    "    Perform a Spike Test on the given data array.\n",
    "\n",
    "    :param var: array-like, the data to test for spikes\n",
    "    :param thrshld_low: float, the low spike threshold\n",
    "    :param thrshld_high: float, the high spike threshold\n",
    "    :return: array-like, the flags for each data point (1: Pass, 3: Suspect, 4: Fail)\n",
    "    \"\"\"\n",
    "    for i in range(1, len(var) - 1):\n",
    "        spk_ref = (var[i - 1] + var[i + 1]) / 2\n",
    "        spike = abs(var[i] - spk_ref)\n",
    "\n",
    "        if spike > thrshld_high:\n",
    "            qc_flag[i] = 4\n",
    "        elif thrshld_low < spike <= thrshld_high:\n",
    "            qc_flag[i] = 3\n",
    "\n",
    "    return qc_flag\n",
    "\n",
    "\n",
    "def rate_of_change_test(var, time, qc_flag, n_dev=3, tim_dev=25):\n",
    "    \"\"\"\n",
    "    Perform a Rate of Change Test on the given data array.\n",
    "\n",
    "    :param var: array-like, the data to test for rate of change\n",
    "    :param time: array-like, the time array corresponding to the data\n",
    "    :param n_dev: int, the number of standard deviations for the threshold\n",
    "    :param tim_dev: int, the period in hours over which the standard deviations are calculated\n",
    "    :return: array-like, the flags for each data point (1: Pass, 3: Suspect)\n",
    "    \"\"\"\n",
    "\n",
    "    for i in range(1, len(var)):\n",
    "\n",
    "        if var[i] == 0 or var[i - 1] == 0:\n",
    "            continue\n",
    "\n",
    "        time_diff = time[i] - time[i - 1]\n",
    "        if time_diff <= 0:\n",
    "            continue\n",
    "\n",
    "        rate_of_change = abs(var[i] - var[i - 1]) / time_diff\n",
    "        recent_data = var[(time >= time[i] - tim_dev) & (time < time[i])]\n",
    "\n",
    "        if len(recent_data) < 2:\n",
    "            continue\n",
    "\n",
    "        sd = np.std(recent_data, ddof=1)\n",
    "        threshold = n_dev * sd\n",
    "\n",
    "        if rate_of_change > threshold:\n",
    "            qc_flag[i] = 3\n",
    "\n",
    "    return qc_flag\n",
    "    \n",
    "\n",
    "def flat_line_test(var, qc_flag, eps=1e-6, rep_cnt_fail=5, rep_cnt_suspect=3):\n",
    "    \"\"\"\n",
    "    Perform a Flat Line Test on the given data array.\n",
    "\n",
    "    :param var: array-like, the data to test for flat line\n",
    "    :param eps: float, the tolerance value to compare the data values\n",
    "    :param rep_cnt_fail: int, number of repeated observations for a fail flag\n",
    "    :param rep_cnt_suspect: int, number of repeated observations for a suspect flag\n",
    "    :return: array-like, the flags for each data point (1: Pass, 3: Suspect, 4: Fail)\n",
    "    \"\"\"\n",
    "    for i in range(1, len(var)):\n",
    "        fail_count = 0\n",
    "        suspect_count = 0\n",
    "\n",
    "        for j in range(1, min(i+1, rep_cnt_fail+1)):\n",
    "            if abs(var[i] - var[i-j]) < eps:\n",
    "                fail_count += 1\n",
    "                if fail_count < rep_cnt_suspect:\n",
    "                    suspect_count += 1\n",
    "        if fail_count >= rep_cnt_fail and var[i] != 0:\n",
    "            qc_flag[i] = 4\n",
    "        elif suspect_count >= rep_cnt_suspect:\n",
    "            qc_flag[i] = 3\n",
    "\n",
    "    return qc_flag\n",
    "\n",
    "def quartod_qc_checks(var, time, variable_name):\n",
    "    \"\"\"\n",
    "    Performs Quality Control Checks on data following US QUARTOD Protocol and Standards\n",
    "    The function performs the following tests:\n",
    "    1. Gross Range Test\n",
    "    2. Spike Test\n",
    "    3. Rate of Change Test\n",
    "    4. Flat Line Test\n",
    "\n",
    "    :param var: array-like, the data to test\n",
    "    :param time: array-like, the time associated with the data\n",
    "    :param variable_name: string, the name of the variable being tested\n",
    "    :return: array-like, the flags for each data point (1: Pass, 2: Not tested, 3: Suspect, 4: Fail, 9: Missing Data)\n",
    "    \"\"\"\n",
    "\n",
    "    # create qc flag variable from var\n",
    "    # set initially the flag to \"one\" which is \"pass\"\n",
    "    var = np.asarray(var)\n",
    "    qc_flag = np.ones_like(var, dtype=int)\n",
    "\n",
    "    # Set missing data flag to 9\n",
    "    qc_flag[np.isnan(var)] = 9\n",
    "    \n",
    "    # set flag to 4: Fail if the variable is exactly \"zero\" as happens during initializing the sensor\n",
    "    qc_flag[var==0] = 4\n",
    "\n",
    "    # for different variables (e.g. salinity) there are different thresholds for the tests\n",
    "    qc_options = get_qc_options(variable_name)\n",
    "\n",
    "    # test 1 - range check\n",
    "    qc_flag = range_check_test(var, qc_flag, qc_options['sensor_min'], qc_options['sensor_max'], qc_options['sensor_user_min'], qc_options['sensor_user_max'])\n",
    "\n",
    "    # test 2 - spike test\n",
    "    qc_flag = spike_test(var, qc_flag, qc_options['spike_thrshld_low'], qc_options['spike_thrshld_high'])\n",
    "\n",
    "    # test 3 - rate of change test\n",
    "    qc_flag = rate_of_change_test(var, time, qc_flag, qc_options['n_dev'], qc_options['time_dev'])\n",
    "\n",
    "    # test 4 - flat line test\n",
    "    qc_flag = flat_line_test(var, qc_flag, qc_options['eps'], qc_options['rep_cnt_fail'], qc_options['rep_cnt_suspect'])\n",
    "\n",
    "    return qc_flag\n",
    "\n",
    "\n",
    "\n",
    "\n",
    "\n",
    "\n",
    "\n"
   ]
  },
  {
   "cell_type": "code",
   "execution_count": 5,
   "id": "85c1105f",
   "metadata": {},
   "outputs": [],
   "source": [
    "salinity_qc_flag = quartod_qc_checks(data['salinity'],data['time'], 'salinity')\n"
   ]
  },
  {
   "cell_type": "code",
   "execution_count": 6,
   "id": "07ccadf7",
   "metadata": {},
   "outputs": [
    {
     "data": {
      "text/plain": [
       "[<matplotlib.lines.Line2D at 0x7fe3050c6310>]"
      ]
     },
     "execution_count": 6,
     "metadata": {},
     "output_type": "execute_result"
    },
    {
     "data": {
      "image/png": "[encoded data removed]",
      "text/plain": [
       "<Figure size 432x288 with 1 Axes>"
      ]
     },
     "metadata": {
      "needs_background": "light"
     },
     "output_type": "display_data"
    }
   ],
   "source": [
    "data['salinity_qc'] = data['salinity']\n",
    "idx = salinity_qc_flag != 1\n",
    "data['salinity_qc'][idx] = np.nan\n",
    "\n",
    "#plt.plot(data['salinity'])\n",
    "plt.plot(data['salinity_qc'])\n",
    "\n"
   ]
  },
  {
   "cell_type": "markdown",
   "id": "c2f8fa80",
   "metadata": {},
   "source": [
    "## Attributes + Data Saving"
   ]
  },
  {
   "cell_type": "code",
   "execution_count": 12,
   "id": "db0139c7",
   "metadata": {},
   "outputs": [
    {
     "data": {
      "text/plain": [
       "\"\\nfname='echo-trajectory_file.nc'\\ngliders_db = '/Users/research/Documents/GitHub/gliderProcessing/glider_reference_information/glider_serial-numbers_and_sensor-serial-numbers.csv'\\nmetadata_source = '/Users/research/Documents/GitHub/gliderProcessing/glider_data/echo_20230113/metadata.yml'\\nencoder = '/Users/research/Documents/GitHub/gliderProcessing/glider_processing_scripts/attributes/glider_dac_3.0_conventions.yml'\\n\\nsource_info = {\\n    'gliders_db': gliders_db,\\n    'metadata_source': metadata_source,\\n    'encoder': encoder,\\n    'processing_mode': 'delayed',\\n    'data_type': 'trajectory',\\n    'data_source': files,\\n    'filename': fname,\\n    'filepath': nc_path\\n}\\n\\nsave_netcdf(data, raw_data,source_info)\\n\\n\""
      ]
     },
     "execution_count": 12,
     "metadata": {},
     "output_type": "execute_result"
    }
   ],
   "source": [
    "'''\n",
    "from data2attr import save_netcdf\n",
    "fname='echo-trajectory_file.nc'\n",
    "gliders_db = '/Users/research/Documents/GitHub/gliderProcessing/glider_reference_information/glider_serial-numbers_and_sensor-serial-numbers.csv'\n",
    "metadata_source = '/Users/research/Documents/GitHub/gliderProcessing/glider_data/echo_20230113/metadata.yml'\n",
    "encoder = '/Users/research/Documents/GitHub/gliderProcessing/glider_processing_scripts/attributes/glider_dac_3.0_conventions.yml'\n",
    "\n",
    "source_info = {\n",
    "    'gliders_db': gliders_db,\n",
    "    'metadata_source': metadata_source,\n",
    "    'encoder': encoder,\n",
    "    'processing_mode': 'delayed',\n",
    "    'data_type': 'trajectory',\n",
    "    'data_source': files,\n",
    "    'filename': fname,\n",
    "    'filepath': nc_path\n",
    "}\n",
    "\n",
    "save_netcdf(data, raw_data,source_info)\n",
    "\n",
    "# Check result\n",
    "traj_file_name = sorted(glob.glob(nc_path + '*{}*.nc'.format('trajectory')))\n",
    "traj_data = xr.open_dataset(traj_file_name[0], engine='netcdf4', decode_times=False)\n",
    "\n",
    "traj_data\n",
    "\n",
    "'''\n"
   ]
  },
  {
   "cell_type": "code",
   "execution_count": 11,
   "id": "ef1b3fc7",
   "metadata": {},
   "outputs": [
    {
     "data": {
      "text/plain": [
       "\"\\ntraj_file_name = sorted(glob.glob(nc_path + '*{}*.nc'.format('trajectory')))\\ntraj_data = xr.open_dataset(traj_file_name[0], engine='netcdf4', decode_times=False)\\n\\ntraj_data\\n\""
      ]
     },
     "execution_count": 11,
     "metadata": {},
     "output_type": "execute_result"
    }
   ],
   "source": []
  },
  {
   "cell_type": "markdown",
   "id": "34b68212",
   "metadata": {},
   "source": [
    "## PLOTS"
   ]
  },
  {
   "cell_type": "code",
   "execution_count": 10,
   "id": "91c15e42",
   "metadata": {},
   "outputs": [
    {
     "data": {
      "text/plain": [
       "\"\\n\\nfig, ax = plt.subplots(figsize=(14,7))\\nplt.plot(data['time'],data['depth'])\\nplt.gca().invert_yaxis()\\nax.set(xlabel='time', ylabel='depth(m)',\\n       title='Glider Dives')\\n\\n\\nfig, ax = plt.subplots(figsize=(14,7))\\nidx_down = np.flatnonzero(data['profile_index'] == 1)\\nidx_up = np.flatnonzero(data['profile_index'] == 2)\\nax.plot(data['time'].values[idx_down], data['depth'].values[idx_down], 'o', label='down cast')\\nax.plot(data['time'].values[idx_up], data['depth'].values[idx_up], 'o', label='up cast')\\nax.set(xlabel='time (s)', ylabel='depth (m)',\\n       title='Algorithm for Profile Splitting Code')\\nplt.gca().invert_yaxis()\\nax.grid()\\nax.legend()\\nplt.show()\\n\\n\\nfig, ax = plt.subplots(figsize=(14,7))\\nax.plot(data['lon_qc'],data['lat_qc'],'o',label='corrected(underwater)')\\nax.plot(raw_data['m_gps_lon'],raw_data['m_gps_lat'],'o',label='GPS(surface)')\\nax.set(xlabel='longitude', ylabel='latitude',\\n       title='Algorithm for Deadreckoning Position Correction')\\nax.grid()\\nax.legend()\\nplt.show()\\n\\n\\n\""
      ]
     },
     "execution_count": 10,
     "metadata": {},
     "output_type": "execute_result"
    }
   ],
   "source": [
    "'''\n",
    "\n",
    "fig, ax = plt.subplots(figsize=(14,7))\n",
    "plt.plot(data['time'],data['depth'])\n",
    "plt.gca().invert_yaxis()\n",
    "ax.set(xlabel='time', ylabel='depth(m)',\n",
    "       title='Glider Dives')\n",
    "\n",
    "\n",
    "fig, ax = plt.subplots(figsize=(14,7))\n",
    "idx_down = np.flatnonzero(data['profile_index'] == 1)\n",
    "idx_up = np.flatnonzero(data['profile_index'] == 2)\n",
    "ax.plot(data['time'].values[idx_down], data['depth'].values[idx_down], 'o', label='down cast')\n",
    "ax.plot(data['time'].values[idx_up], data['depth'].values[idx_up], 'o', label='up cast')\n",
    "ax.set(xlabel='time (s)', ylabel='depth (m)',\n",
    "       title='Algorithm for Profile Splitting Code')\n",
    "plt.gca().invert_yaxis()\n",
    "ax.grid()\n",
    "ax.legend()\n",
    "plt.show()\n",
    "\n",
    "\n",
    "fig, ax = plt.subplots(figsize=(14,7))\n",
    "ax.plot(data['lon_qc'],data['lat_qc'],'o',label='corrected(underwater)')\n",
    "ax.plot(raw_data['m_gps_lon'],raw_data['m_gps_lat'],'o',label='GPS(surface)')\n",
    "ax.set(xlabel='longitude', ylabel='latitude',\n",
    "       title='Algorithm for Deadreckoning Position Correction')\n",
    "ax.grid()\n",
    "ax.legend()\n",
    "plt.show()\n",
    "\n",
    "\n",
    "'''\n",
    "\n"
   ]
  }
 ],
 "metadata": {
  "kernelspec": {
   "display_name": "Python 3 (ipykernel)",
   "language": "python",
   "name": "python3"
  },
  "language_info": {
   "codemirror_mode": {
    "name": "ipython",
    "version": 3
   },
   "file_extension": ".py",
   "mimetype": "text/x-python",
   "name": "python",
   "nbconvert_exporter": "python",
   "pygments_lexer": "ipython3",
   "version": "3.9.12"
  }
 },
 "nbformat": 4,
 "nbformat_minor": 5
}
