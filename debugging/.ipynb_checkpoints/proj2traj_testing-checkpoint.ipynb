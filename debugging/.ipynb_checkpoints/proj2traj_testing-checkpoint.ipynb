{
 "cells": [
  {
   "cell_type": "code",
   "execution_count": 1,
   "id": "0e53e6bc",
   "metadata": {},
   "outputs": [
    {
     "name": "stdout",
     "output_type": "stream",
     "text": [
      "Processed /Users/research/Documents/GitHub/gliderProcessing/glider_data/echo_20230113/delayed/nc/echo-2023-012-0-0_delayed.nc\n",
      "Processed /Users/research/Documents/GitHub/gliderProcessing/glider_data/echo_20230113/delayed/nc/echo-2023-012-1-0_delayed.nc\n",
      "Processed /Users/research/Documents/GitHub/gliderProcessing/glider_data/echo_20230113/delayed/nc/echo-2023-012-2-0_delayed.nc\n",
      "Processed /Users/research/Documents/GitHub/gliderProcessing/glider_data/echo_20230113/delayed/nc/echo-2023-012-2-1_delayed.nc\n",
      "Processed /Users/research/Documents/GitHub/gliderProcessing/glider_data/echo_20230113/delayed/nc/echo-2023-012-2-2_delayed.nc\n",
      "Processed /Users/research/Documents/GitHub/gliderProcessing/glider_data/echo_20230113/delayed/nc/echo-2023-012-3-0_delayed.nc\n"
     ]
    }
   ],
   "source": [
    "import sys\n",
    "import glob\n",
    "import xarray as xr\n",
    "import pandas as pd\n",
    "import numpy as np\n",
    "import matplotlib.pyplot as plt\n",
    "\n",
    "nc_path = '/Users/research/Documents/GitHub/gliderProcessing/glider_data/echo_20230113/delayed/nc/'\n",
    "processing_mode = 'delayed'\n",
    "\n",
    "files = sorted(glob.glob(nc_path + '*{}*.nc'.format(processing_mode)))\n",
    "data_list = []\n",
    "glider_record_list = []\n",
    "\n",
    "for f in files:\n",
    "    try:\n",
    "        tmpData = xr.open_dataset(f, engine='netcdf4', decode_times=False)\n",
    "        data_list.append(tmpData)\n",
    "        tmpGliderRecordData = xr.open_dataset(f, engine='netcdf4', group='glider_record', decode_times=False)\n",
    "        glider_record_list.append(tmpGliderRecordData)\n",
    "        print('Processed {}'.format(f))\n",
    "    except Exception as e:\n",
    "        print('Ignore {}. Error: {}'.format(f, e))\n",
    "\n",
    "raw_data = xr.concat(glider_record_list, dim='time').sortby('time')\n",
    "data = xr.concat(data_list, dim='time').sortby('time')\n",
    "\n",
    "# Convert xarray datasets to pandas dataframes\n",
    "raw_data = raw_data.to_dataframe().reset_index()\n",
    "data = data.to_dataframe().reset_index()"
   ]
  },
  {
   "cell_type": "markdown",
   "id": "a6a24abf",
   "metadata": {},
   "source": [
    "## Correct lon/lat dead reckoning"
   ]
  },
  {
   "cell_type": "code",
   "execution_count": 2,
   "id": "47bdf2bb",
   "metadata": {},
   "outputs": [],
   "source": [
    "# Path containing python functions\n",
    "path = ['/Users/research/Documents/GitHub/gliderProcessing/glider_processing_scripts/']\n",
    "sys.path.append(path[0])\n",
    "\n",
    "from gliderfuncs import correct_dead_reckoning, findProfiles\n",
    "\n",
    "data['lon_qc'],data['lat_qc'] = correct_dead_reckoning(raw_data['m_lon'],raw_data['m_lat'],raw_data['time'],raw_data['x_dr_state'],raw_data['m_gps_lon'],raw_data['m_gps_lat'])\n"
   ]
  },
  {
   "cell_type": "markdown",
   "id": "561429d8",
   "metadata": {},
   "source": [
    "## Find Profiles"
   ]
  },
  {
   "cell_type": "code",
   "execution_count": 3,
   "id": "ffbe9b2f",
   "metadata": {},
   "outputs": [],
   "source": [
    "data['profile_index'],data['profile_direction']=findProfiles(data['time'],data['depth'],stall=20,shake=200)"
   ]
  },
  {
   "cell_type": "markdown",
   "id": "371ce157",
   "metadata": {},
   "source": [
    "## Data QC"
   ]
  },
  {
   "cell_type": "code",
   "execution_count": null,
   "id": "07ccadf7",
   "metadata": {},
   "outputs": [],
   "source": []
  },
  {
   "cell_type": "markdown",
   "id": "c2f8fa80",
   "metadata": {},
   "source": [
    "## Attributes + Data Saving"
   ]
  },
  {
   "cell_type": "code",
   "execution_count": 4,
   "id": "b09b8899",
   "metadata": {},
   "outputs": [],
   "source": [
    "from data2attr import save_netcdf"
   ]
  },
  {
   "cell_type": "code",
   "execution_count": 5,
   "id": "db0139c7",
   "metadata": {},
   "outputs": [
    {
     "name": "stderr",
     "output_type": "stream",
     "text": [
      "/Users/research/opt/anaconda3/lib/python3.9/site-packages/numpy/lib/nanfunctions.py:1119: RuntimeWarning: All-NaN slice encountered\n",
      "  r, k = function_base._ureduce(a, func=_nanmedian, axis=axis, out=out,\n"
     ]
    },
    {
     "name": "stdout",
     "output_type": "stream",
     "text": [
      "chlorophyll_a not present in the data file\n",
      "cdom not present in the data file\n"
     ]
    }
   ],
   "source": [
    "fname='echo-trajectory_file.nc'\n",
    "gliders_db = '/Users/research/Documents/GitHub/gliderProcessing/glider_reference_information/glider_serial-numbers_and_sensor-serial-numbers.csv'\n",
    "metadata_source = '/Users/research/Documents/GitHub/gliderProcessing/glider_data/echo_20230113/metadata.yml'\n",
    "encoder = '/Users/research/Documents/GitHub/gliderProcessing/glider_processing_scripts/attributes/glider_dac_3.0_conventions.yml'\n",
    "\n",
    "source_info = {\n",
    "    'gliders_db': gliders_db,\n",
    "    'metadata_source': metadata_source,\n",
    "    'encoder': encoder,\n",
    "    'processing_mode': 'delayed',\n",
    "    'data_type': 'trajectory',\n",
    "    'data_source': files,\n",
    "    'filename': fname,\n",
    "    'filepath': nc_path\n",
    "}\n",
    "\n",
    "save_netcdf(data, raw_data,source_info)"
   ]
  },
  {
   "cell_type": "code",
   "execution_count": 7,
   "id": "ef1b3fc7",
   "metadata": {},
   "outputs": [
    {
     "ename": "ValueError",
     "evalue": "can only read bytes or file-like objects with engine='scipy' or 'h5netcdf'",
     "output_type": "error",
     "traceback": [
      "\u001b[0;31m---------------------------------------------------------------------------\u001b[0m",
      "\u001b[0;31mValueError\u001b[0m                                Traceback (most recent call last)",
      "Input \u001b[0;32mIn [7]\u001b[0m, in \u001b[0;36m<cell line: 2>\u001b[0;34m()\u001b[0m\n\u001b[1;32m      1\u001b[0m traj_file_name \u001b[38;5;241m=\u001b[39m \u001b[38;5;28msorted\u001b[39m(glob\u001b[38;5;241m.\u001b[39mglob(nc_path \u001b[38;5;241m+\u001b[39m \u001b[38;5;124m'\u001b[39m\u001b[38;5;124m*\u001b[39m\u001b[38;5;132;01m{}\u001b[39;00m\u001b[38;5;124m*.nc\u001b[39m\u001b[38;5;124m'\u001b[39m\u001b[38;5;241m.\u001b[39mformat(\u001b[38;5;124m'\u001b[39m\u001b[38;5;124mtrajectory\u001b[39m\u001b[38;5;124m'\u001b[39m)))\n\u001b[0;32m----> 2\u001b[0m traj_data \u001b[38;5;241m=\u001b[39m \u001b[43mxr\u001b[49m\u001b[38;5;241;43m.\u001b[39;49m\u001b[43mopen_dataset\u001b[49m\u001b[43m(\u001b[49m\u001b[43mtraj_file_name\u001b[49m\u001b[43m,\u001b[49m\u001b[43m \u001b[49m\u001b[43mengine\u001b[49m\u001b[38;5;241;43m=\u001b[39;49m\u001b[38;5;124;43m'\u001b[39;49m\u001b[38;5;124;43mnetcdf4\u001b[39;49m\u001b[38;5;124;43m'\u001b[39;49m\u001b[43m,\u001b[49m\u001b[43m \u001b[49m\u001b[43mdecode_times\u001b[49m\u001b[38;5;241;43m=\u001b[39;49m\u001b[38;5;28;43;01mFalse\u001b[39;49;00m\u001b[43m)\u001b[49m\n\u001b[1;32m      4\u001b[0m traj_data\n",
      "File \u001b[0;32m~/opt/anaconda3/lib/python3.9/site-packages/xarray/backends/api.py:495\u001b[0m, in \u001b[0;36mopen_dataset\u001b[0;34m(filename_or_obj, engine, chunks, cache, decode_cf, mask_and_scale, decode_times, decode_timedelta, use_cftime, concat_characters, decode_coords, drop_variables, backend_kwargs, *args, **kwargs)\u001b[0m\n\u001b[1;32m    483\u001b[0m decoders \u001b[38;5;241m=\u001b[39m _resolve_decoders_kwargs(\n\u001b[1;32m    484\u001b[0m     decode_cf,\n\u001b[1;32m    485\u001b[0m     open_backend_dataset_parameters\u001b[38;5;241m=\u001b[39mbackend\u001b[38;5;241m.\u001b[39mopen_dataset_parameters,\n\u001b[0;32m   (...)\u001b[0m\n\u001b[1;32m    491\u001b[0m     decode_coords\u001b[38;5;241m=\u001b[39mdecode_coords,\n\u001b[1;32m    492\u001b[0m )\n\u001b[1;32m    494\u001b[0m overwrite_encoded_chunks \u001b[38;5;241m=\u001b[39m kwargs\u001b[38;5;241m.\u001b[39mpop(\u001b[38;5;124m\"\u001b[39m\u001b[38;5;124moverwrite_encoded_chunks\u001b[39m\u001b[38;5;124m\"\u001b[39m, \u001b[38;5;28;01mNone\u001b[39;00m)\n\u001b[0;32m--> 495\u001b[0m backend_ds \u001b[38;5;241m=\u001b[39m \u001b[43mbackend\u001b[49m\u001b[38;5;241;43m.\u001b[39;49m\u001b[43mopen_dataset\u001b[49m\u001b[43m(\u001b[49m\n\u001b[1;32m    496\u001b[0m \u001b[43m    \u001b[49m\u001b[43mfilename_or_obj\u001b[49m\u001b[43m,\u001b[49m\n\u001b[1;32m    497\u001b[0m \u001b[43m    \u001b[49m\u001b[43mdrop_variables\u001b[49m\u001b[38;5;241;43m=\u001b[39;49m\u001b[43mdrop_variables\u001b[49m\u001b[43m,\u001b[49m\n\u001b[1;32m    498\u001b[0m \u001b[43m    \u001b[49m\u001b[38;5;241;43m*\u001b[39;49m\u001b[38;5;241;43m*\u001b[39;49m\u001b[43mdecoders\u001b[49m\u001b[43m,\u001b[49m\n\u001b[1;32m    499\u001b[0m \u001b[43m    \u001b[49m\u001b[38;5;241;43m*\u001b[39;49m\u001b[38;5;241;43m*\u001b[39;49m\u001b[43mkwargs\u001b[49m\u001b[43m,\u001b[49m\n\u001b[1;32m    500\u001b[0m \u001b[43m\u001b[49m\u001b[43m)\u001b[49m\n\u001b[1;32m    501\u001b[0m ds \u001b[38;5;241m=\u001b[39m _dataset_from_backend_dataset(\n\u001b[1;32m    502\u001b[0m     backend_ds,\n\u001b[1;32m    503\u001b[0m     filename_or_obj,\n\u001b[0;32m   (...)\u001b[0m\n\u001b[1;32m    510\u001b[0m     \u001b[38;5;241m*\u001b[39m\u001b[38;5;241m*\u001b[39mkwargs,\n\u001b[1;32m    511\u001b[0m )\n\u001b[1;32m    512\u001b[0m \u001b[38;5;28;01mreturn\u001b[39;00m ds\n",
      "File \u001b[0;32m~/opt/anaconda3/lib/python3.9/site-packages/xarray/backends/netCDF4_.py:553\u001b[0m, in \u001b[0;36mNetCDF4BackendEntrypoint.open_dataset\u001b[0;34m(self, filename_or_obj, mask_and_scale, decode_times, concat_characters, decode_coords, drop_variables, use_cftime, decode_timedelta, group, mode, format, clobber, diskless, persist, lock, autoclose)\u001b[0m\n\u001b[1;32m    532\u001b[0m \u001b[38;5;28;01mdef\u001b[39;00m \u001b[38;5;21mopen_dataset\u001b[39m(\n\u001b[1;32m    533\u001b[0m     \u001b[38;5;28mself\u001b[39m,\n\u001b[1;32m    534\u001b[0m     filename_or_obj,\n\u001b[0;32m   (...)\u001b[0m\n\u001b[1;32m    549\u001b[0m     autoclose\u001b[38;5;241m=\u001b[39m\u001b[38;5;28;01mFalse\u001b[39;00m,\n\u001b[1;32m    550\u001b[0m ):\n\u001b[1;32m    552\u001b[0m     filename_or_obj \u001b[38;5;241m=\u001b[39m _normalize_path(filename_or_obj)\n\u001b[0;32m--> 553\u001b[0m     store \u001b[38;5;241m=\u001b[39m \u001b[43mNetCDF4DataStore\u001b[49m\u001b[38;5;241;43m.\u001b[39;49m\u001b[43mopen\u001b[49m\u001b[43m(\u001b[49m\n\u001b[1;32m    554\u001b[0m \u001b[43m        \u001b[49m\u001b[43mfilename_or_obj\u001b[49m\u001b[43m,\u001b[49m\n\u001b[1;32m    555\u001b[0m \u001b[43m        \u001b[49m\u001b[43mmode\u001b[49m\u001b[38;5;241;43m=\u001b[39;49m\u001b[43mmode\u001b[49m\u001b[43m,\u001b[49m\n\u001b[1;32m    556\u001b[0m \u001b[43m        \u001b[49m\u001b[38;5;28;43mformat\u001b[39;49m\u001b[38;5;241;43m=\u001b[39;49m\u001b[38;5;28;43mformat\u001b[39;49m\u001b[43m,\u001b[49m\n\u001b[1;32m    557\u001b[0m \u001b[43m        \u001b[49m\u001b[43mgroup\u001b[49m\u001b[38;5;241;43m=\u001b[39;49m\u001b[43mgroup\u001b[49m\u001b[43m,\u001b[49m\n\u001b[1;32m    558\u001b[0m \u001b[43m        \u001b[49m\u001b[43mclobber\u001b[49m\u001b[38;5;241;43m=\u001b[39;49m\u001b[43mclobber\u001b[49m\u001b[43m,\u001b[49m\n\u001b[1;32m    559\u001b[0m \u001b[43m        \u001b[49m\u001b[43mdiskless\u001b[49m\u001b[38;5;241;43m=\u001b[39;49m\u001b[43mdiskless\u001b[49m\u001b[43m,\u001b[49m\n\u001b[1;32m    560\u001b[0m \u001b[43m        \u001b[49m\u001b[43mpersist\u001b[49m\u001b[38;5;241;43m=\u001b[39;49m\u001b[43mpersist\u001b[49m\u001b[43m,\u001b[49m\n\u001b[1;32m    561\u001b[0m \u001b[43m        \u001b[49m\u001b[43mlock\u001b[49m\u001b[38;5;241;43m=\u001b[39;49m\u001b[43mlock\u001b[49m\u001b[43m,\u001b[49m\n\u001b[1;32m    562\u001b[0m \u001b[43m        \u001b[49m\u001b[43mautoclose\u001b[49m\u001b[38;5;241;43m=\u001b[39;49m\u001b[43mautoclose\u001b[49m\u001b[43m,\u001b[49m\n\u001b[1;32m    563\u001b[0m \u001b[43m    \u001b[49m\u001b[43m)\u001b[49m\n\u001b[1;32m    565\u001b[0m     store_entrypoint \u001b[38;5;241m=\u001b[39m StoreBackendEntrypoint()\n\u001b[1;32m    566\u001b[0m     \u001b[38;5;28;01mwith\u001b[39;00m close_on_error(store):\n",
      "File \u001b[0;32m~/opt/anaconda3/lib/python3.9/site-packages/xarray/backends/netCDF4_.py:355\u001b[0m, in \u001b[0;36mNetCDF4DataStore.open\u001b[0;34m(cls, filename, mode, format, group, clobber, diskless, persist, lock, lock_maker, autoclose)\u001b[0m\n\u001b[1;32m    352\u001b[0m     filename \u001b[38;5;241m=\u001b[39m os\u001b[38;5;241m.\u001b[39mfspath(filename)\n\u001b[1;32m    354\u001b[0m \u001b[38;5;28;01mif\u001b[39;00m \u001b[38;5;129;01mnot\u001b[39;00m \u001b[38;5;28misinstance\u001b[39m(filename, \u001b[38;5;28mstr\u001b[39m):\n\u001b[0;32m--> 355\u001b[0m     \u001b[38;5;28;01mraise\u001b[39;00m \u001b[38;5;167;01mValueError\u001b[39;00m(\n\u001b[1;32m    356\u001b[0m         \u001b[38;5;124m\"\u001b[39m\u001b[38;5;124mcan only read bytes or file-like objects \u001b[39m\u001b[38;5;124m\"\u001b[39m\n\u001b[1;32m    357\u001b[0m         \u001b[38;5;124m\"\u001b[39m\u001b[38;5;124mwith engine=\u001b[39m\u001b[38;5;124m'\u001b[39m\u001b[38;5;124mscipy\u001b[39m\u001b[38;5;124m'\u001b[39m\u001b[38;5;124m or \u001b[39m\u001b[38;5;124m'\u001b[39m\u001b[38;5;124mh5netcdf\u001b[39m\u001b[38;5;124m'\u001b[39m\u001b[38;5;124m\"\u001b[39m\n\u001b[1;32m    358\u001b[0m     )\n\u001b[1;32m    360\u001b[0m \u001b[38;5;28;01mif\u001b[39;00m \u001b[38;5;28mformat\u001b[39m \u001b[38;5;129;01mis\u001b[39;00m \u001b[38;5;28;01mNone\u001b[39;00m:\n\u001b[1;32m    361\u001b[0m     \u001b[38;5;28mformat\u001b[39m \u001b[38;5;241m=\u001b[39m \u001b[38;5;124m\"\u001b[39m\u001b[38;5;124mNETCDF4\u001b[39m\u001b[38;5;124m\"\u001b[39m\n",
      "\u001b[0;31mValueError\u001b[0m: can only read bytes or file-like objects with engine='scipy' or 'h5netcdf'"
     ]
    }
   ],
   "source": [
    "\n",
    "traj_file_name = sorted(glob.glob(nc_path + '*{}*.nc'.format('trajectory')))\n",
    "traj_data = xr.open_dataset(traj_file_name[0], engine='netcdf4', decode_times=False)\n",
    "\n",
    "traj_data"
   ]
  },
  {
   "cell_type": "markdown",
   "id": "34b68212",
   "metadata": {},
   "source": [
    "## PLOTS"
   ]
  },
  {
   "cell_type": "code",
   "execution_count": null,
   "id": "91c15e42",
   "metadata": {},
   "outputs": [],
   "source": [
    "\n",
    "fig, ax = plt.subplots(figsize=(14,7))\n",
    "plt.plot(data['time'],data['depth'])\n",
    "plt.gca().invert_yaxis()\n",
    "ax.set(xlabel='time', ylabel='depth(m)',\n",
    "       title='Glider Dives')\n",
    "\n",
    "\n",
    "fig, ax = plt.subplots(figsize=(14,7))\n",
    "idx_down = np.flatnonzero(data['profile_index'] == 1)\n",
    "idx_up = np.flatnonzero(data['profile_index'] == 2)\n",
    "ax.plot(data['time'].values[idx_down], data['depth'].values[idx_down], 'o', label='down cast')\n",
    "ax.plot(data['time'].values[idx_up], data['depth'].values[idx_up], 'o', label='up cast')\n",
    "ax.set(xlabel='time (s)', ylabel='depth (m)',\n",
    "       title='Algorithm for Profile Splitting Code')\n",
    "plt.gca().invert_yaxis()\n",
    "ax.grid()\n",
    "ax.legend()\n",
    "plt.show()\n",
    "\n",
    "\n",
    "fig, ax = plt.subplots(figsize=(14,7))\n",
    "ax.plot(data['lon_qc'],data['lat_qc'],'o',label='corrected(underwater)')\n",
    "ax.plot(raw_data['m_gps_lon'],raw_data['m_gps_lat'],'o',label='GPS(surface)')\n",
    "ax.set(xlabel='longitude', ylabel='latitude',\n",
    "       title='Algorithm for Deadreckoning Position Correction')\n",
    "ax.grid()\n",
    "ax.legend()\n",
    "plt.show()\n",
    "\n"
   ]
  }
 ],
 "metadata": {
  "kernelspec": {
   "display_name": "Python 3 (ipykernel)",
   "language": "python",
   "name": "python3"
  },
  "language_info": {
   "codemirror_mode": {
    "name": "ipython",
    "version": 3
   },
   "file_extension": ".py",
   "mimetype": "text/x-python",
   "name": "python",
   "nbconvert_exporter": "python",
   "pygments_lexer": "ipython3",
   "version": "3.9.12"
  }
 },
 "nbformat": 4,
 "nbformat_minor": 5
}
