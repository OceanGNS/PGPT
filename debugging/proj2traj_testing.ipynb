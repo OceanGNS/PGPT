{
 "cells": [
  {
   "cell_type": "code",
   "execution_count": 1,
   "id": "0e53e6bc",
   "metadata": {},
   "outputs": [
    {
     "name": "stdout",
     "output_type": "stream",
     "text": [
      "Processed /Users/research/Documents/GitHub/gliderProcessing/glider_data/echo_20230113/delayed/nc/echo-2023-012-0-0_delayed.nc\n",
      "Processed /Users/research/Documents/GitHub/gliderProcessing/glider_data/echo_20230113/delayed/nc/echo-2023-012-1-0_delayed.nc\n",
      "Processed /Users/research/Documents/GitHub/gliderProcessing/glider_data/echo_20230113/delayed/nc/echo-2023-012-2-0_delayed.nc\n",
      "Processed /Users/research/Documents/GitHub/gliderProcessing/glider_data/echo_20230113/delayed/nc/echo-2023-012-2-1_delayed.nc\n",
      "Processed /Users/research/Documents/GitHub/gliderProcessing/glider_data/echo_20230113/delayed/nc/echo-2023-012-2-2_delayed.nc\n",
      "Processed /Users/research/Documents/GitHub/gliderProcessing/glider_data/echo_20230113/delayed/nc/echo-2023-012-3-0_delayed.nc\n"
     ]
    }
   ],
   "source": [
    "import sys\n",
    "import glob\n",
    "import xarray as xr\n",
    "import pandas as pd\n",
    "import numpy as np\n",
    "import matplotlib.pyplot as plt\n",
    "\n",
    "nc_path = '/Users/research/Documents/GitHub/gliderProcessing/glider_data/echo_20230113/delayed/nc/'\n",
    "processing_mode = 'delayed'\n",
    "\n",
    "files = sorted(glob.glob(nc_path + '*{}*.nc'.format(processing_mode)))\n",
    "data_list = []\n",
    "glider_record_list = []\n",
    "\n",
    "for f in files:\n",
    "    try:\n",
    "        tmpData = xr.open_dataset(f, engine='netcdf4', decode_times=False)\n",
    "        data_list.append(tmpData)\n",
    "        tmpGliderRecordData = xr.open_dataset(f, engine='netcdf4', group='glider_record', decode_times=False)\n",
    "        glider_record_list.append(tmpGliderRecordData)\n",
    "        print('Processed {}'.format(f))\n",
    "    except Exception as e:\n",
    "        print('Ignore {}. Error: {}'.format(f, e))\n",
    "\n",
    "raw_data = xr.concat(glider_record_list, dim='time').sortby('time')\n",
    "data = xr.concat(data_list, dim='time').sortby('time')\n",
    "\n",
    "# Convert xarray datasets to pandas dataframes\n",
    "raw_data = raw_data.to_dataframe().reset_index()\n",
    "data = data.to_dataframe().reset_index()"
   ]
  },
  {
   "cell_type": "markdown",
   "id": "a6a24abf",
   "metadata": {},
   "source": [
    "## Correct lon/lat dead reckoning"
   ]
  },
  {
   "cell_type": "code",
   "execution_count": 2,
   "id": "47bdf2bb",
   "metadata": {},
   "outputs": [],
   "source": [
    "# Path containing python functions\n",
    "path = ['/Users/research/Documents/GitHub/gliderProcessing/glider_processing_scripts/']\n",
    "sys.path.append(path[0])\n",
    "\n",
    "from gliderfuncs import correct_dead_reckoning, findProfiles\n",
    "\n",
    "data['lon_qc'],data['lat_qc'] = correct_dead_reckoning(raw_data['m_lon'],raw_data['m_lat'],raw_data['time'],raw_data['x_dr_state'],raw_data['m_gps_lon'],raw_data['m_gps_lat'])\n"
   ]
  },
  {
   "cell_type": "markdown",
   "id": "561429d8",
   "metadata": {},
   "source": [
    "## Find Profiles"
   ]
  },
  {
   "cell_type": "code",
   "execution_count": 3,
   "id": "ffbe9b2f",
   "metadata": {},
   "outputs": [],
   "source": [
    "data['profile_index'],data['profile_direction']=findProfiles(data['time'],data['depth'],stall=20,shake=200)"
   ]
  },
  {
   "cell_type": "markdown",
   "id": "371ce157",
   "metadata": {},
   "source": [
    "## Data QC"
   ]
  },
  {
   "cell_type": "code",
   "execution_count": 4,
   "id": "010bfdd5",
   "metadata": {},
   "outputs": [],
   "source": [
    "from quartod_qc import quartod_qc_checks"
   ]
  },
  {
   "cell_type": "code",
   "execution_count": 5,
   "id": "c4209540",
   "metadata": {},
   "outputs": [
    {
     "name": "stdout",
     "output_type": "stream",
     "text": [
      "done: test 1 - range test for variable salinity\n",
      "done: test 2 - spike test for variable salinity\n",
      "done: test 3 - rate of change test for variable salinity\n",
      "done: test 4 - flat line test for variable salinity\n"
     ]
    }
   ],
   "source": [
    "salinity_qc_flag = quartod_qc_checks(data['salinity'].values, data['time'].values, 'salinity')"
   ]
  },
  {
   "cell_type": "code",
   "execution_count": 10,
   "id": "07ccadf7",
   "metadata": {},
   "outputs": [
    {
     "data": {
      "text/plain": [
       "[<matplotlib.lines.Line2D at 0x7fb61d1e10d0>]"
      ]
     },
     "execution_count": 10,
     "metadata": {},
     "output_type": "execute_result"
    },
    {
     "data": {
      "image/png": "[encoded data removed]",
      "text/plain": [
       "<Figure size 432x288 with 1 Axes>"
      ]
     },
     "metadata": {
      "needs_background": "light"
     },
     "output_type": "display_data"
    }
   ],
   "source": [
    "data['salinity_qc'] = data['salinity']\n",
    "idx = salinity_qc_flag == 4 \n",
    "data['salinity_qc'][idx] = np.nan\n",
    "\n",
    "plt.plot(data['salinity'])\n",
    "plt.plot(data['salinity_qc'])\n",
    "\n"
   ]
  },
  {
   "cell_type": "markdown",
   "id": "c2f8fa80",
   "metadata": {},
   "source": [
    "## Attributes + Data Saving"
   ]
  },
  {
   "cell_type": "code",
   "execution_count": 7,
   "id": "db0139c7",
   "metadata": {},
   "outputs": [
    {
     "data": {
      "text/plain": [
       "\"\\nfrom data2attr import save_netcdf\\nfname='echo-trajectory_file.nc'\\ngliders_db = '/Users/research/Documents/GitHub/gliderProcessing/glider_reference_information/glider_serial-numbers_and_sensor-serial-numbers.csv'\\nmetadata_source = '/Users/research/Documents/GitHub/gliderProcessing/glider_data/echo_20230113/metadata.yml'\\nencoder = '/Users/research/Documents/GitHub/gliderProcessing/glider_processing_scripts/attributes/glider_dac_3.0_conventions.yml'\\n\\nsource_info = {\\n    'gliders_db': gliders_db,\\n    'metadata_source': metadata_source,\\n    'encoder': encoder,\\n    'processing_mode': 'delayed',\\n    'data_type': 'trajectory',\\n    'data_source': files,\\n    'filename': fname,\\n    'filepath': nc_path\\n}\\n\\nsave_netcdf(data, raw_data,source_info)\\n\\n# Check result\\ntraj_file_name = sorted(glob.glob(nc_path + '*{}*.nc'.format('trajectory')))\\ntraj_data = xr.open_dataset(traj_file_name[0], engine='netcdf4', decode_times=False)\\n\\ntraj_data\\n\""
      ]
     },
     "execution_count": 7,
     "metadata": {},
     "output_type": "execute_result"
    }
   ],
   "source": [
    "'''\n",
    "from data2attr import save_netcdf\n",
    "fname='echo-trajectory_file.nc'\n",
    "gliders_db = '/Users/research/Documents/GitHub/gliderProcessing/glider_reference_information/glider_serial-numbers_and_sensor-serial-numbers.csv'\n",
    "metadata_source = '/Users/research/Documents/GitHub/gliderProcessing/glider_data/echo_20230113/metadata.yml'\n",
    "encoder = '/Users/research/Documents/GitHub/gliderProcessing/glider_processing_scripts/attributes/glider_dac_3.0_conventions.yml'\n",
    "\n",
    "source_info = {\n",
    "    'gliders_db': gliders_db,\n",
    "    'metadata_source': metadata_source,\n",
    "    'encoder': encoder,\n",
    "    'processing_mode': 'delayed',\n",
    "    'data_type': 'trajectory',\n",
    "    'data_source': files,\n",
    "    'filename': fname,\n",
    "    'filepath': nc_path\n",
    "}\n",
    "\n",
    "save_netcdf(data, raw_data,source_info)\n",
    "\n",
    "# Check result\n",
    "traj_file_name = sorted(glob.glob(nc_path + '*{}*.nc'.format('trajectory')))\n",
    "traj_data = xr.open_dataset(traj_file_name[0], engine='netcdf4', decode_times=False)\n",
    "\n",
    "traj_data\n",
    "'''\n"
   ]
  },
  {
   "cell_type": "markdown",
   "id": "34b68212",
   "metadata": {},
   "source": [
    "## PLOTS"
   ]
  },
  {
   "cell_type": "code",
   "execution_count": 8,
   "id": "91c15e42",
   "metadata": {},
   "outputs": [
    {
     "data": {
      "text/plain": [
       "\"\\n\\nfig, ax = plt.subplots(figsize=(14,7))\\nplt.plot(data['time'],data['depth'])\\nplt.gca().invert_yaxis()\\nax.set(xlabel='time', ylabel='depth(m)',\\n       title='Glider Dives')\\n\\n\\nfig, ax = plt.subplots(figsize=(14,7))\\nidx_down = np.flatnonzero(data['profile_index'] == 1)\\nidx_up = np.flatnonzero(data['profile_index'] == 2)\\nax.plot(data['time'].values[idx_down], data['depth'].values[idx_down], 'o', label='down cast')\\nax.plot(data['time'].values[idx_up], data['depth'].values[idx_up], 'o', label='up cast')\\nax.set(xlabel='time (s)', ylabel='depth (m)',\\n       title='Algorithm for Profile Splitting Code')\\nplt.gca().invert_yaxis()\\nax.grid()\\nax.legend()\\nplt.show()\\n\\n\\nfig, ax = plt.subplots(figsize=(14,7))\\nax.plot(data['lon_qc'],data['lat_qc'],'o',label='corrected(underwater)')\\nax.plot(raw_data['m_gps_lon'],raw_data['m_gps_lat'],'o',label='GPS(surface)')\\nax.set(xlabel='longitude', ylabel='latitude',\\n       title='Algorithm for Deadreckoning Position Correction')\\nax.grid()\\nax.legend()\\nplt.show()\\n\\n\\n\""
      ]
     },
     "execution_count": 8,
     "metadata": {},
     "output_type": "execute_result"
    }
   ],
   "source": [
    "'''\n",
    "\n",
    "fig, ax = plt.subplots(figsize=(14,7))\n",
    "plt.plot(data['time'],data['depth'])\n",
    "plt.gca().invert_yaxis()\n",
    "ax.set(xlabel='time', ylabel='depth(m)',\n",
    "       title='Glider Dives')\n",
    "\n",
    "\n",
    "fig, ax = plt.subplots(figsize=(14,7))\n",
    "idx_down = np.flatnonzero(data['profile_index'] == 1)\n",
    "idx_up = np.flatnonzero(data['profile_index'] == 2)\n",
    "ax.plot(data['time'].values[idx_down], data['depth'].values[idx_down], 'o', label='down cast')\n",
    "ax.plot(data['time'].values[idx_up], data['depth'].values[idx_up], 'o', label='up cast')\n",
    "ax.set(xlabel='time (s)', ylabel='depth (m)',\n",
    "       title='Algorithm for Profile Splitting Code')\n",
    "plt.gca().invert_yaxis()\n",
    "ax.grid()\n",
    "ax.legend()\n",
    "plt.show()\n",
    "\n",
    "\n",
    "fig, ax = plt.subplots(figsize=(14,7))\n",
    "ax.plot(data['lon_qc'],data['lat_qc'],'o',label='corrected(underwater)')\n",
    "ax.plot(raw_data['m_gps_lon'],raw_data['m_gps_lat'],'o',label='GPS(surface)')\n",
    "ax.set(xlabel='longitude', ylabel='latitude',\n",
    "       title='Algorithm for Deadreckoning Position Correction')\n",
    "ax.grid()\n",
    "ax.legend()\n",
    "plt.show()\n",
    "\n",
    "\n",
    "'''\n",
    "\n"
   ]
  }
 ],
 "metadata": {
  "kernelspec": {
   "display_name": "Python 3 (ipykernel)",
   "language": "python",
   "name": "python3"
  },
  "language_info": {
   "codemirror_mode": {
    "name": "ipython",
    "version": 3
   },
   "file_extension": ".py",
   "mimetype": "text/x-python",
   "name": "python",
   "nbconvert_exporter": "python",
   "pygments_lexer": "ipython3",
   "version": "3.9.12"
  }
 },
 "nbformat": 4,
 "nbformat_minor": 5
}
