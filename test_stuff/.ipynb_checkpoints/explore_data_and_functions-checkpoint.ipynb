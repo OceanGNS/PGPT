{
 "cells": [
  {
   "cell_type": "code",
   "execution_count": null,
   "id": "d7bf26bc",
   "metadata": {},
   "outputs": [],
   "source": [
    "import numpy as np\n",
    "import pandas as pd\n",
    "import matplotlib.pyplot as plt\n",
    "import sys\n",
    "import gsw as sw\n",
    "\n",
    "# Path containing python functions\n",
    "path = ['/Users/research/Documents/GitHub/gliderProcessing/glider_processing_scripts/']\n",
    "\n",
    "sys.path.append(path[0])\n",
    "from functions import c2salinity,p2depth,dm2d,rad2deg,O2freshtosal,range_check,correctDR,findProfiles"
   ]
  },
  {
   "cell_type": "markdown",
   "id": "d89134a8",
   "metadata": {},
   "source": [
    "# Explore Glider Processing Steps\n",
    "\n",
    "A notebook to test functions and get comfortable with the toolbox capabilities\n",
    "- Do some basic processing\n",
    "- Plot some things\n",
    "- Showcase functions and capabilities\n",
    "\n",
    "### Checking out the dead reckoning correction for Slocum glider based on `x_dr_state`"
   ]
  },
  {
   "cell_type": "code",
   "execution_count": null,
   "id": "0f5cc5c0",
   "metadata": {},
   "outputs": [],
   "source": [
    "# Glider data set from Unit 334 collected in Placentia Bay in 2022\n",
    "df = pd.read_csv('glider_334_data.csv')\n",
    "print(list(df.columns.values))\n",
    "\n",
    "# convert from DDMM.MM to DD.DD\n",
    "for col in ['lat', 'lon', 'gps_lat', 'gps_lon']:\n",
    "    if(col in df.keys()):\n",
    "        df[col] = dm2d(df[col])"
   ]
  },
  {
   "cell_type": "code",
   "execution_count": null,
   "id": "5708d27e",
   "metadata": {},
   "outputs": [],
   "source": [
    "# Run the dead reckoning correction code\n",
    "df['lon_corrected'],df['lat_corrected'] = correctDR(df['lon'],df['lat'],df['time'],df['dr_state'],df['gps_lon'],df['gps_lat'])\n",
    "\n",
    "fig, ax = plt.subplots()\n",
    "ax.plot(df['lon_corrected'],df['lat_corrected'],'o',label='corrected')\n",
    "ax.plot(df['lon'],df['lat'],'o',label='original')\n",
    "ax.set(xlabel='longitude', ylabel='latitude',\n",
    "       title='Algorithm for Deadreckoning Position Correction')\n",
    "ax.grid()\n",
    "ax.legend()\n",
    "fig.savefig(\"DRtest.png\")\n",
    "plt.show()\n"
   ]
  },
  {
   "cell_type": "markdown",
   "id": "6d18f9db",
   "metadata": {},
   "source": [
    "### Calculate some parameters and do some basic corrections\n",
    "\n",
    "- First do linear interpolation/filling of gaps \n",
    "- \n",
    "\n"
   ]
  },
  {
   "cell_type": "code",
   "execution_count": null,
   "id": "edd0b455",
   "metadata": {},
   "outputs": [],
   "source": [
    "# Interpolate and fill gaps linearly but preserving nans in the beginning and end (crude method to get what we want)\n",
    "df = df.fillna(method='ffill') + (df.fillna(method='bfill') * 0)\n",
    "\n",
    "df['depth'] = p2depth(df['ctd_pressure']*10)\n"
   ]
  },
  {
   "cell_type": "markdown",
   "id": "f0b6f875",
   "metadata": {},
   "source": [
    "### Profile splitting code\n",
    "This code splits the glider depth,time data to profiles and profile direction, which is useful for further post-processing"
   ]
  },
  {
   "cell_type": "code",
   "execution_count": null,
   "id": "9cacc7b9",
   "metadata": {},
   "outputs": [],
   "source": []
  },
  {
   "cell_type": "code",
   "execution_count": null,
   "id": "9fbb3d41",
   "metadata": {},
   "outputs": [],
   "source": []
  },
  {
   "cell_type": "code",
   "execution_count": null,
   "id": "b5c070e3",
   "metadata": {},
   "outputs": [],
   "source": [
    "# initialize test data\n",
    "depth = np.array([0.5,0.7,1,2,3,4,5,6,7,8,9,10,9,10,9,8,7,6,5,4,3,2,1.5,0.9,0])\n",
    "stamp = np.array([0,1,2,3,4,5,6,7,8,9,10,11,12,13,14,15,16,17,18,19,20,21,22,23,24])\n",
    "\n",
    "\n",
    "\n",
    "profile_index,profile_direction=findProfiles(stamp,depth,length=9,stall=0,shake=0)\n",
    "print(profile_index,profile_direction)\n"
   ]
  },
  {
   "cell_type": "code",
   "execution_count": null,
   "id": "8734f716",
   "metadata": {},
   "outputs": [],
   "source": [
    "\n",
    "\n",
    "\n",
    "fig, ax = plt.subplots()\n",
    "idx_down = np.argwhere(profile_direction==1)\n",
    "idx_up = np.argwhere(profile_direction==-1)\n",
    "\n",
    "ax.plot(stamp[idx_down],-depth[idx_down],'o',label='down cast')\n",
    "ax.plot(stamp[idx_up],-depth[idx_up],'o',label='up cast')\n",
    "ax.set(xlabel='time (s)', ylabel='depth (m)',\n",
    "       title='Algorithm for Profile Splitting Code')\n",
    "ax.grid()\n",
    "ax.legend()\n",
    "plt.show()"
   ]
  },
  {
   "cell_type": "code",
   "execution_count": null,
   "id": "aa80e600",
   "metadata": {},
   "outputs": [],
   "source": [
    "\n",
    "\n"
   ]
  },
  {
   "cell_type": "code",
   "execution_count": null,
   "id": "8ccf86eb",
   "metadata": {},
   "outputs": [],
   "source": [
    "\"\"\"\n",
    "\n",
    "options_list = {\n",
    "        \"length\": 0,\n",
    "        \"period\": 0,\n",
    "        \"inversion\": 0,\n",
    "        \"interrupt\": 0,\n",
    "        \"stall\": 0,\n",
    "        \"shake\": 0,\n",
    "}\n",
    "\n",
    "# Inputs are 1D Vectors\n",
    "    depth= depth.flatten()\n",
    "    stamp= stamp.flatten()\n",
    "\n",
    "    # LOGIC BEGINS\n",
    "\n",
    "    valid_index  = np.argwhere(np.logical_not(np.logical_or(np.isnan(depth),np.isnan(stamp)))).flatten()\n",
    "    valid_index  = valid_index.astype(int)\n",
    "    sdy = np.sign( np.diff( depth[valid_index],n=1,axis=0))\n",
    "    depth_peak =  np.ones(np.size(valid_index), dtype=bool)\n",
    "    depth_peak[1:len(depth_peak)-1,] = np.diff(sdy,n=1,axis=0) !=0\n",
    "    depth_peak_index = valid_index[depth_peak]\n",
    "    sgmt_frst = stamp[depth_peak_index[0:len(depth_peak_index)-1,]]\n",
    "    sgmt_last = stamp[depth_peak_index[1:,]]\n",
    "    sgmt_strt = depth[depth_peak_index[0:len(depth_peak_index)-1,]]\n",
    "    sgmt_fnsh = depth[depth_peak_index[1:,]]\n",
    "    sgmt_sinc = sgmt_last - sgmt_frst\n",
    "    sgmt_vinc = sgmt_fnsh - sgmt_strt\n",
    "    sgmt_vdir = np.sign(sgmt_vinc)\n",
    "\n",
    "    #print(sgmt_vdir,sgmt_vinc,sgmt_sinc,sgmt_fnsh)\n",
    "\n",
    "    cast_sgmt_valid = np.logical_not(np.logical_or(np.abs(sgmt_vinc) <= options_list[\"stall\"],sgmt_sinc <= options_list[\"shake\"]))\n",
    "    cast_sgmt_index = np.argwhere(cast_sgmt_valid).flatten()\n",
    "    cast_sgmt_lapse = sgmt_frst[cast_sgmt_index[1:]] - sgmt_last[cast_sgmt_index[0:len(cast_sgmt_index)-1]]\n",
    "    cast_sgmt_space = -np.abs(sgmt_vdir[cast_sgmt_index[0:len(cast_sgmt_index)-1]] * (sgmt_strt[cast_sgmt_index[1:]] - sgmt_fnsh[cast_sgmt_index[0:len(cast_sgmt_index)-1]] ))\n",
    "    cast_sgmt_dirch = np.diff(sgmt_vdir[cast_sgmt_index],n=1,axis=0)\n",
    "    cast_sgmt_bound = np.logical_not((cast_sgmt_dirch[:,] == 0) & (cast_sgmt_lapse[:,] <= options_list[\"interrupt\"]) & (cast_sgmt_space <= options_list[\"inversion\"]))\n",
    "    cast_sgmt_head_valid = np.ones(np.size(cast_sgmt_index), dtype=bool)\n",
    "    cast_sgmt_tail_valid = np.ones(np.size(cast_sgmt_index), dtype=bool)\n",
    "    cast_sgmt_head_valid[1:,] = cast_sgmt_bound\n",
    "    cast_sgmt_tail_valid[0:len(cast_sgmt_tail_valid)-1,] = cast_sgmt_bound\n",
    "\n",
    "    cast_head_index = depth_peak_index[cast_sgmt_index[cast_sgmt_head_valid]]\n",
    "    cast_tail_index = depth_peak_index[cast_sgmt_index[cast_sgmt_tail_valid] + 1]\n",
    "    cast_length = np.abs(depth[cast_tail_index] - depth[cast_head_index])\n",
    "    cast_period = stamp[cast_tail_index] - stamp[cast_head_index];\n",
    "\n",
    "    cast_valid = np.logical_not(np.logical_or(cast_length <= options_list[\"length\"],cast_period <= options_list[\"period\"]))\n",
    "    cast_head = np.zeros(np.size(depth))\n",
    "    cast_tail = np.zeros(np.size(depth))\n",
    "    cast_head[cast_head_index[cast_valid] + 1] = 0.5\n",
    "    cast_tail[cast_tail_index[cast_valid]] = 0.5\n",
    "\n",
    "    # initialize output np arrays\n",
    "    profile_index = 0.5 + np.cumsum(cast_head + cast_tail)\n",
    "    profile_direction = np.empty((len(depth,)))\n",
    "    profile_direction[:]= np.nan\n",
    "\n",
    "    for i in range(len(valid_index)-1):\n",
    "        i_start = valid_index[i]\n",
    "        i_end = valid_index[i+1]\n",
    "        #print(i,i_start,i_end)\n",
    "        profile_direction[i_start:i_end]=sdy[i]\n",
    "\n",
    "\n",
    "#print(profile_index,profile_direction)\n",
    "\n",
    "\"\"\""
   ]
  },
  {
   "cell_type": "code",
   "execution_count": null,
   "id": "8220b085",
   "metadata": {},
   "outputs": [],
   "source": []
  }
 ],
 "metadata": {
  "kernelspec": {
   "display_name": "Python 3 (ipykernel)",
   "language": "python",
   "name": "python3"
  },
  "language_info": {
   "codemirror_mode": {
    "name": "ipython",
    "version": 3
   },
   "file_extension": ".py",
   "mimetype": "text/x-python",
   "name": "python",
   "nbconvert_exporter": "python",
   "pygments_lexer": "ipython3",
   "version": "3.9.12"
  }
 },
 "nbformat": 4,
 "nbformat_minor": 5
}
