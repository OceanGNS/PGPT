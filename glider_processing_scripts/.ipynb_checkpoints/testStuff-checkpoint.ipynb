{
 "cells": [
  {
   "cell_type": "code",
   "execution_count": 1,
   "id": "0de2a9f2",
   "metadata": {},
   "outputs": [
    {
     "name": "stdout",
     "output_type": "stream",
     "text": [
      "['m_present_time', 'm_de_oil_vol', 'c_de_oil_vol', 'm_depth', 'm_pitch', 'c_pitch', 'm_ballast_pumped', 'c_ballast_pumped', 'm_battpos', 'c_battpos', 'm_heading', 'c_heading', 'm_fin', 'c_fin', 'm_roll', 'm_vacuum', 'm_battery', 'm_leak', 'm_altitude', 'm_water_depth', 'm_raw_altitude', 'm_raw_altitude_rejected', 'm_altimeter_status', 'm_lat', 'm_lon', 'c_wpt_lon', 'c_wpt_lat', 'm_gps_lon', 'm_gps_lat', 'm_initial_water_vx', 'm_initial_water_vy', 'm_final_water_vx', 'm_final_water_vy', 'm_water_vx', 'm_water_vy', 'm_gps_speed', 'm_gps_heading', 'm_gps_mag_var', 'm_gps_x_lmc', 'm_gps_y_lmc', 'm_dr_x_postfix_drift', 'm_dr_y_postfix_drift', 'm_dr_x_actual_err', 'm_dr_y_actual_err', 'm_dr_postfix_time', 'x_dr_state', 'm_dr_time', 'm_gps_on', 'c_gps_on', 'm_water_delta_vx', 'm_water_delta_vy', 'm_depth_state', 'cc_depth_state_mode', 'm_coulomb_amphr', 'm_coulomb_amphr_total', 'm_coulomb_current', 'm_coulomb_current_raw', 'u_flbbcd_chlor_cwo', 'u_flbbcd_bb_cwo', 'u_flbbcd_cdom_cwo', 'u_flbbcd_chlor_sf', 'u_flbbcd_bb_sf', 'u_flbbcd_cdom_sf']\n"
     ]
    }
   ],
   "source": [
    "import csv\n",
    "fid=open('filter.csv', 'r')\n",
    "var_filter = list(csv.reader(fid, delimiter=\",\"))[0]\n",
    "fid.close()\n",
    "print(var_filter)"
   ]
  },
  {
   "cell_type": "code",
   "execution_count": null,
   "id": "2a0e9294",
   "metadata": {
    "collapsed": true
   },
   "outputs": [],
   "source": []
  }
 ],
 "metadata": {
  "kernelspec": {
   "display_name": "Python 3 (ipykernel)",
   "language": "python",
   "name": "python3"
  },
  "language_info": {
   "codemirror_mode": {
    "name": "ipython",
    "version": 3
   },
   "file_extension": ".py",
   "mimetype": "text/x-python",
   "name": "python",
   "nbconvert_exporter": "python",
   "pygments_lexer": "ipython3",
   "version": "3.9.12"
  }
 },
 "nbformat": 4,
 "nbformat_minor": 5
}
